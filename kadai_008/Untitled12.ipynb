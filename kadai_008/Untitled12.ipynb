{
  "nbformat": 4,
  "nbformat_minor": 0,
  "metadata": {
    "colab": {
      "provenance": []
    },
    "kernelspec": {
      "name": "python3",
      "display_name": "Python 3"
    },
    "language_info": {
      "name": "python"
    }
  },
  "cells": [
    {
      "cell_type": "code",
      "execution_count": 12,
      "metadata": {
        "colab": {
          "base_uri": "https://localhost:8080/"
        },
        "id": "uHEWZxKKcAtt",
        "outputId": "6cf7e85b-2d41-4995-95bd-653cc0fbfd46"
      },
      "outputs": [
        {
          "output_type": "execute_result",
          "data": {
            "text/plain": [
              "0.9629629629629629"
            ]
          },
          "metadata": {},
          "execution_count": 12
        }
      ],
      "source": [
        "import pandas as pd\n",
        "from sklearn.datasets import load_wine\n",
        "\n",
        "dataset = load_wine()\n",
        "dataset\n",
        "dataset.data\n",
        "dataset.feature_names\n",
        "df = pd.DataFrame(data=dataset.data, columns=dataset.feature_names)\n",
        "dataset.target\n",
        "df['category'] = dataset.target\n",
        "df.head()\n",
        "\n",
        "X = dataset.data\n",
        "y = dataset.target\n",
        "\n",
        "from sklearn.model_selection import train_test_split\n",
        "train_test_split(X, y, test_size=0.3, random_state=5)\n",
        "X_train, X_test, y_train, y_test = train_test_split(X, y, test_size=0.3, random_state=5)\n",
        "\n",
        "from sklearn.ensemble import RandomForestClassifier\n",
        "model = RandomForestClassifier(random_state=3)\n",
        "\n",
        "model.fit(X_train, y_train)\n",
        "\n",
        "y_pred = model.predict(X_test)\n",
        "\n",
        "from sklearn.metrics import accuracy_score\n",
        "accuracy_score(y_test, y_pred)\n",
        "\n"
      ]
    }
  ]
}