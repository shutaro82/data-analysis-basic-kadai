{
  "nbformat": 4,
  "nbformat_minor": 0,
  "metadata": {
    "colab": {
      "provenance": []
    },
    "kernelspec": {
      "name": "python3",
      "display_name": "Python 3"
    },
    "language_info": {
      "name": "python"
    }
  },
  "cells": [
    {
      "cell_type": "code",
      "execution_count": 9,
      "metadata": {
        "colab": {
          "base_uri": "https://localhost:8080/"
        },
        "id": "X-oBnSigChiZ",
        "outputId": "508c3410-2f44-4b6d-dae2-7ddc50a3680d"
      },
      "outputs": [
        {
          "output_type": "execute_result",
          "data": {
            "text/plain": [
              "47"
            ]
          },
          "metadata": {},
          "execution_count": 9
        }
      ],
      "source": [
        "import numpy as np\n",
        "a = np.array([[0, 1], [2, 3], [4, 5]])\n",
        "b = np.array([[0, 1, 2, 3], [4, 5, 6, 7]])\n",
        "\n",
        "multi_array = np.dot(a, b)\n",
        "\n",
        "multi_array.max()"
      ]
    }
  ]
}