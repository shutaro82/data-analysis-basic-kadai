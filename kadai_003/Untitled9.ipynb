{
  "nbformat": 4,
  "nbformat_minor": 0,
  "metadata": {
    "colab": {
      "provenance": []
    },
    "kernelspec": {
      "name": "python3",
      "display_name": "Python 3"
    },
    "language_info": {
      "name": "python"
    }
  },
  "cells": [
    {
      "cell_type": "code",
      "execution_count": 10,
      "metadata": {
        "colab": {
          "base_uri": "https://localhost:8080/"
        },
        "id": "X-oBnSigChiZ",
        "outputId": "72c6237d-cd8b-4ed6-af60-37c7202de66e"
      },
      "outputs": [
        {
          "output_type": "execute_result",
          "data": {
            "text/plain": [
              "47"
            ]
          },
          "metadata": {},
          "execution_count": 10
        }
      ],
      "source": [
        "import numpy as np\n",
        "a = np.array([[0, 1], [2, 3], [4, 5]])\n",
        "b = np.array([[0, 1, 2, 3], [4, 5, 6, 7]])\n",
        "\n",
        "np.dot(a, b)\n",
        "\n",
        "multi_array = np.dot(a, b)\n",
        "\n",
        "multi_array.max()"
      ]
    }
  ]
}